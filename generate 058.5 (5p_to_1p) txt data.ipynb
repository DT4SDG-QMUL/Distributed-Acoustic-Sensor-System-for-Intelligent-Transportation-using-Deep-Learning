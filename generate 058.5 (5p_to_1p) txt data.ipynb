{
 "cells": [
  {
   "attachments": {},
   "cell_type": "markdown",
   "metadata": {},
   "source": [
    "# Meta-data overview"
   ]
  },
  {
   "cell_type": "code",
   "execution_count": 1,
   "metadata": {},
   "outputs": [],
   "source": [
    "from fdsobj import FdsObj\n",
    "import numpy as np\n",
    "import matplotlib.pyplot as plt\n",
    "import pandas as pd\n",
    "import os\n",
    "\n",
    "datadir = \"raw/\""
   ]
  },
  {
   "cell_type": "code",
   "execution_count": 2,
   "metadata": {},
   "outputs": [
    {
     "data": {
      "text/plain": [
       "FDS File: 058.5_Weight_Car2_5_4_3_2_1_passenger_60kmh_West_And_East_2020.02.26.03.27.25.298014_20210201T185138_OPD.fds\n",
       "data_type: real32\n",
       "start_bin: 0\n",
       "end_bin: 1027\n",
       "start_shot: 0 \n",
       "sample_rate_Hz: 1000.04\n",
       "bin_spacing_m: 0.68063\n",
       "block_size: 1"
      ]
     },
     "execution_count": 2,
     "metadata": {},
     "output_type": "execute_result"
    }
   ],
   "source": [
    "fname = '058.5_Weight_Car2_5_4_3_2_1_passenger_60kmh_West_And_East_2020.02.26.03.27.25.298014_20210201T185138_OPD.fds'\n",
    "fname = os.path.join(datadir, fname)\n",
    "\n",
    "fds = FdsObj(fname)\n",
    "fds"
   ]
  },
  {
   "cell_type": "code",
   "execution_count": 3,
   "metadata": {},
   "outputs": [],
   "source": [
    "def reload_data(fname, numShots):\n",
    "    fds = FdsObj(fname)\n",
    "    data = np.asarray([shot for _,shot in zip(range(numShots), fds)])\n",
    "    data = np.transpose(data)\n",
    "    return fds, data #datashape: (bin, shot)"
   ]
  },
  {
   "cell_type": "code",
   "execution_count": 4,
   "metadata": {},
   "outputs": [],
   "source": [
    "numShots = 10000000\n",
    "fds, data = reload_data(fname, numShots)"
   ]
  },
  {
   "cell_type": "code",
   "execution_count": 5,
   "metadata": {},
   "outputs": [
    {
     "name": "stdout",
     "output_type": "stream",
     "text": [
      "(1028, 515456)\n"
     ]
    }
   ],
   "source": [
    "print(data.shape)"
   ]
  },
  {
   "attachments": {},
   "cell_type": "markdown",
   "metadata": {},
   "source": [
    "# generate data"
   ]
  },
  {
   "cell_type": "code",
   "execution_count": 6,
   "metadata": {},
   "outputs": [],
   "source": [
    "speed = \"058.5\"\n",
    "numShots = 515456\n",
    "bins = np.array([300,350,410,460,500,550,600,650,703,750])\n",
    "start_bin, end_bin = bins[0], bins[-1] # we only manually labelled bins between start_bin and end_bin \n",
    "fname = 'raw/058.5_Weight_Car2_5_4_3_2_1_passenger_60kmh_West_And_East_2020.02.26.03.27.25.298014_20210201T185138_OPD.fds'\n",
    "directions  = [\"west\", \"east\"]\n",
    "clean_cars = [\"1\", \"3\", \"4\"]"
   ]
  },
  {
   "cell_type": "code",
   "execution_count": 7,
   "metadata": {},
   "outputs": [],
   "source": [
    "from utils.data_preprocessing import *"
   ]
  },
  {
   "cell_type": "code",
   "execution_count": 8,
   "metadata": {},
   "outputs": [],
   "source": [
    "fds, data = reload_data(fname, numShots)\n",
    "output_labels = np.zeros((data.shape[0], data.shape[1])) #create placeholder output_labels\n",
    "get_all_cars_window_width = []"
   ]
  },
  {
   "attachments": {},
   "cell_type": "markdown",
   "metadata": {},
   "source": [
    "## (1) label \"clean\" cars: DAS signals in these car classes all can be defined by human eyes."
   ]
  },
  {
   "cell_type": "code",
   "execution_count": 9,
   "metadata": {},
   "outputs": [
    {
     "name": "stdout",
     "output_type": "stream",
     "text": [
      "========================================\n",
      "Process 1 car\n",
      "Direction west\n",
      "Direction east\n",
      "Done\n",
      "========================================\n",
      "Process 3 car\n",
      "Direction west\n",
      "Direction east\n",
      "Done\n",
      "========================================\n",
      "Process 4 car\n",
      "Direction west\n",
      "Direction east\n",
      "Done\n"
     ]
    }
   ],
   "source": [
    "for car_label in clean_cars:\n",
    "    print(\"=\"*40)\n",
    "    print(\"Process {0} car\".format(car_label))\n",
    "    for d in directions:\n",
    "        print(\"Direction {0}\".format(d))\n",
    "        shot_start, shot_end = get_start_end_shot(str(car_label), speed, d)\n",
    "        a1, b1, a2, b2 = get_a1b1_a2b2(bins, shot_start, shot_end) # get two LR slopes\n",
    "        check_slope(a1, a2, car_label, d)\n",
    "        output_labels, window_width_list = get_labels(output_labels, start_bin, end_bin, a1, b1, a2, b2, car_label)\n",
    "        get_all_cars_window_width.extend(window_width_list)\n",
    "    print(\"Done\")\n",
    "    #if denoise_method = False, output data will contain only raw windows. "
   ]
  },
  {
   "attachments": {},
   "cell_type": "markdown",
   "metadata": {},
   "source": [
    "## (2) label \"unclean\" cars"
   ]
  },
  {
   "cell_type": "code",
   "execution_count": 10,
   "metadata": {},
   "outputs": [],
   "source": [
    "### label car 2 "
   ]
  },
  {
   "cell_type": "code",
   "execution_count": 11,
   "metadata": {},
   "outputs": [
    {
     "name": "stdout",
     "output_type": "stream",
     "text": [
      "========================================\n",
      "Process 2 car\n",
      "Direction west\n",
      "Direction east\n",
      "Done\n"
     ]
    }
   ],
   "source": [
    "car_label = 2\n",
    "print(\"=\"*40)\n",
    "print(\"Process {0} car\".format(car_label))\n",
    "d = \"west\"\n",
    "print(\"Direction {0}\".format(d))\n",
    "\n",
    "bins_clean, shot_start, shot_end = get_start_end_shot(str(car_label), speed, d)\n",
    "a1, b1, a2, b2 = get_a1b1_a2b2(bins_clean, shot_start, shot_end) # get slopes\n",
    "check_slope(a1, a2, car_label, d)\n",
    "output_labels, window_width_list = get_labels(output_labels, start_bin, end_bin, a1, b1, a2, b2, car_label, 520, 570)\n",
    "get_all_cars_window_width.extend(window_width_list)\n",
    "\n",
    "\n",
    "d = \"east\"\n",
    "print(\"Direction {0}\".format(d))\n",
    "shot_start, shot_end = get_start_end_shot(str(car_label), speed, d)\n",
    "a1, b1, a2, b2 = get_a1b1_a2b2(bins, shot_start, shot_end) # get two LR slopes\n",
    "check_slope(a1, a2, car_label, d)\n",
    "output_labels, window_width_list = get_labels(output_labels, start_bin, end_bin, a1, b1, a2, b2, car_label)\n",
    "get_all_cars_window_width.extend(window_width_list)\n",
    "print(\"Done\")    "
   ]
  },
  {
   "cell_type": "code",
   "execution_count": 12,
   "metadata": {},
   "outputs": [],
   "source": [
    "### label car 5"
   ]
  },
  {
   "cell_type": "code",
   "execution_count": 13,
   "metadata": {},
   "outputs": [
    {
     "name": "stdout",
     "output_type": "stream",
     "text": [
      "========================================\n",
      "Process 5 car\n",
      "Direction west\n",
      "Direction east\n",
      "Done\n"
     ]
    }
   ],
   "source": [
    "car_label = 5\n",
    "print(\"=\"*40)\n",
    "print(\"Process {0} car\".format(car_label))\n",
    "d = \"west\"\n",
    "print(\"Direction {0}\".format(d))\n",
    "shot_start, shot_end = get_start_end_shot(str(car_label), speed, d)\n",
    "a1, b1, a2, b2 = get_a1b1_a2b2(bins, shot_start, shot_end) # get slopes\n",
    "check_slope(a1, a2, car_label, d)\n",
    "output_labels, window_width_list = get_labels(output_labels, start_bin, end_bin, a1, b1, a2, b2, car_label)\n",
    "get_all_cars_window_width.extend(window_width_list)\n",
    "\n",
    "d = \"east\"\n",
    "print(\"Direction {0}\".format(d))\n",
    "bins_clean, shot_start, shot_end = get_start_end_shot(str(car_label), speed, d)\n",
    "a1, b1, a2, b2 = get_a1b1_a2b2(bins_clean, shot_start, shot_end) # get slopes\n",
    "check_slope(a1, a2, car_label, d)\n",
    "output_labels, window_width_list = get_labels(output_labels, start_bin, end_bin, a1, b1, a2, b2, car_label, 300, 420)\n",
    "get_all_cars_window_width.extend(window_width_list)\n",
    "print(\"Done\")   "
   ]
  },
  {
   "cell_type": "code",
   "execution_count": 14,
   "metadata": {},
   "outputs": [],
   "source": [
    "import os \n",
    "save_root_folder = 'preprocessed_data/'\n",
    "if not os.path.exists(save_root_folder):\n",
    "    os.mkdir(save_root_folder)\n",
    "\n",
    "output_fname_x, output_fname_y = save_root_folder+'058_5p_to_1p_X.txt', save_root_folder+'058_5p_to_1p_y.txt'\n",
    "car_unique_labels = [1, 2, 3, 4, 5]\n",
    "biggest_window_len = 5976 # we will pad all signals to this length\n",
    "export_data_v2(data, output_labels, start_bin, end_bin, biggest_window_len, output_fname_x, output_fname_y)\n"
   ]
  },
  {
   "cell_type": "code",
   "execution_count": null,
   "metadata": {},
   "outputs": [],
   "source": [
    "\n"
   ]
  },
  {
   "cell_type": "code",
   "execution_count": null,
   "metadata": {},
   "outputs": [],
   "source": []
  },
  {
   "cell_type": "code",
   "execution_count": null,
   "metadata": {},
   "outputs": [],
   "source": []
  },
  {
   "cell_type": "code",
   "execution_count": null,
   "metadata": {},
   "outputs": [],
   "source": []
  },
  {
   "cell_type": "code",
   "execution_count": null,
   "metadata": {},
   "outputs": [],
   "source": []
  },
  {
   "cell_type": "code",
   "execution_count": null,
   "metadata": {},
   "outputs": [],
   "source": []
  }
 ],
 "metadata": {
  "kernelspec": {
   "display_name": "DAS_review",
   "language": "python",
   "name": "das_review"
  },
  "language_info": {
   "codemirror_mode": {
    "name": "ipython",
    "version": 3
   },
   "file_extension": ".py",
   "mimetype": "text/x-python",
   "name": "python",
   "nbconvert_exporter": "python",
   "pygments_lexer": "ipython3",
   "version": "3.8.5"
  }
 },
 "nbformat": 4,
 "nbformat_minor": 4
}

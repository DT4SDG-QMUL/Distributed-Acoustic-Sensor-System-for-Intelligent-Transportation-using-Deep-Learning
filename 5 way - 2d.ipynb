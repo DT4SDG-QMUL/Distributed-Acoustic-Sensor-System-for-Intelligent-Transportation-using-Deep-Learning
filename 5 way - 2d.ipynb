{
 "cells": [
  {
   "attachments": {},
   "cell_type": "markdown",
   "metadata": {},
   "source": [
    "# Load occupancy data: RC-60-Mix"
   ]
  },
  {
   "cell_type": "code",
   "execution_count": 1,
   "metadata": {},
   "outputs": [],
   "source": [
    "import numpy as np \n",
    "import pandas as pd\n"
   ]
  },
  {
   "cell_type": "code",
   "execution_count": 2,
   "metadata": {},
   "outputs": [
    {
     "name": "stdout",
     "output_type": "stream",
     "text": [
      "(4340, 5976) (4340, 1)\n"
     ]
    }
   ],
   "source": [
    "root_folder = 'preprocessed_data/'\n",
    "f_x = root_folder + '058_5p_to_1p_X.txt'\n",
    "f_y = root_folder + '058_5p_to_1p_y.txt'\n",
    "data = pd.read_csv(f_x, delimiter=' ', header = None)\n",
    "labels = pd.read_csv(f_y, delimiter=' ', header = None)\n",
    "print(data.shape, labels.shape)"
   ]
  },
  {
   "cell_type": "code",
   "execution_count": 3,
   "metadata": {},
   "outputs": [],
   "source": [
    "#label 1: 5p\n",
    "#label 2: 4p\n",
    "#label 3: 3p\n",
    "#label 4: 2p\n",
    "#label 5: 1p"
   ]
  },
  {
   "attachments": {},
   "cell_type": "markdown",
   "metadata": {},
   "source": [
    "# RC-60-Mix: extract subdata by each label and produce 2d data"
   ]
  },
  {
   "cell_type": "code",
   "execution_count": 4,
   "metadata": {},
   "outputs": [],
   "source": [
    "from utils.sampling import extract_car_data, generate_2d_data"
   ]
  },
  {
   "cell_type": "code",
   "execution_count": 5,
   "metadata": {},
   "outputs": [],
   "source": [
    "def get_all_cars_2d(f_x, f_y, unique_labels, bin_length, stride, total_bin):\n",
    "    aggregate_data = []\n",
    "    aggregate_label = []\n",
    "    for car_label in unique_labels:\n",
    "        car_1d_data =  extract_car_data(f_x, f_y, car_label)\n",
    "        car_2d_data, car_2d_label = generate_2d_data(car_1d_data, car_label, bin_length, stride, total_bin)\n",
    "        aggregate_data.append(car_2d_data)\n",
    "        aggregate_label.append(car_2d_label)\n",
    "        \n",
    "    return np.concatenate(aggregate_data,axis=0), np.concatenate(aggregate_label, axis=0)        "
   ]
  },
  {
   "cell_type": "code",
   "execution_count": 6,
   "metadata": {},
   "outputs": [],
   "source": [
    "bin_length, stride = 6, 1\n",
    "total_bin = None"
   ]
  },
  {
   "cell_type": "code",
   "execution_count": 7,
   "metadata": {},
   "outputs": [],
   "source": [
    "unique_labels = [1, 2, 3, 4, 5]\n",
    "aggregate_data, aggregate_label = get_all_cars_2d(f_x, f_y, unique_labels, bin_length, stride, total_bin)"
   ]
  },
  {
   "cell_type": "code",
   "execution_count": 8,
   "metadata": {},
   "outputs": [
    {
     "data": {
      "text/plain": [
       "((4310, 6, 5976), (4310,))"
      ]
     },
     "execution_count": 8,
     "metadata": {},
     "output_type": "execute_result"
    }
   ],
   "source": [
    "aggregate_data.shape, aggregate_label.shape"
   ]
  },
  {
   "attachments": {},
   "cell_type": "markdown",
   "metadata": {},
   "source": [
    "# Train 2d cnn on RC-60-Mix"
   ]
  },
  {
   "cell_type": "code",
   "execution_count": 9,
   "metadata": {},
   "outputs": [
    {
     "name": "stderr",
     "output_type": "stream",
     "text": [
      "2023-07-08 13:53:31.341681: I tensorflow/core/util/util.cc:169] oneDNN custom operations are on. You may see slightly different numerical results due to floating-point round-off errors from different computation orders. To turn them off, set the environment variable `TF_ENABLE_ONEDNN_OPTS=0`.\n"
     ]
    }
   ],
   "source": [
    "from das_lib.models import cnn2d_dropout\n",
    "from das_lib.funs import split_train_test_2d"
   ]
  },
  {
   "cell_type": "code",
   "execution_count": 10,
   "metadata": {},
   "outputs": [
    {
     "name": "stderr",
     "output_type": "stream",
     "text": [
      "2023-07-08 13:54:06.325822: I tensorflow/core/platform/cpu_feature_guard.cc:193] This TensorFlow binary is optimized with oneAPI Deep Neural Network Library (oneDNN) to use the following CPU instructions in performance-critical operations:  AVX2 AVX512F AVX512_VNNI FMA\n",
      "To enable them in other operations, rebuild TensorFlow with the appropriate compiler flags.\n",
      "2023-07-08 13:54:08.610307: I tensorflow/core/common_runtime/gpu/gpu_device.cc:1532] Created device /job:localhost/replica:0/task:0/device:GPU:0 with 38251 MB memory:  -> device: 0, name: NVIDIA A100-PCIE-40GB, pci bus id: 0000:d8:00.0, compute capability: 8.0\n"
     ]
    },
    {
     "name": "stdout",
     "output_type": "stream",
     "text": [
      "Model: \"1dcnn_model\"\n",
      "_________________________________________________________________\n",
      " Layer (type)                Output Shape              Param #   \n",
      "=================================================================\n",
      " input_1 (InputLayer)        [(None, 6, 5976, 1)]      0         \n",
      "                                                                 \n",
      " conv2d (Conv2D)             (None, 4, 5913, 16)       3088      \n",
      "                                                                 \n",
      " max_pooling2d (MaxPooling2D  (None, 1, 739, 16)       0         \n",
      " )                                                               \n",
      "                                                                 \n",
      " dropout (Dropout)           (None, 1, 739, 16)        0         \n",
      "                                                                 \n",
      " conv2d_1 (Conv2D)           (None, 1, 724, 32)        8224      \n",
      "                                                                 \n",
      " max_pooling2d_1 (MaxPooling  (None, 1, 90, 32)        0         \n",
      " 2D)                                                             \n",
      "                                                                 \n",
      " dropout_1 (Dropout)         (None, 1, 90, 32)         0         \n",
      "                                                                 \n",
      " conv2d_2 (Conv2D)           (None, 1, 83, 16)         4112      \n",
      "                                                                 \n",
      " max_pooling2d_2 (MaxPooling  (None, 1, 10, 16)        0         \n",
      " 2D)                                                             \n",
      "                                                                 \n",
      " dropout_2 (Dropout)         (None, 1, 10, 16)         0         \n",
      "                                                                 \n",
      " flatten (Flatten)           (None, 160)               0         \n",
      "                                                                 \n",
      " dense (Dense)               (None, 128)               20608     \n",
      "                                                                 \n",
      " dense_1 (Dense)             (None, 64)                8256      \n",
      "                                                                 \n",
      " dense_2 (Dense)             (None, 5)                 325       \n",
      "                                                                 \n",
      "=================================================================\n",
      "Total params: 44,613\n",
      "Trainable params: 44,613\n",
      "Non-trainable params: 0\n",
      "_________________________________________________________________\n",
      "None\n"
     ]
    }
   ],
   "source": [
    "from das_lib.funs import *\n",
    "test_frac = .2\n",
    "aggregate_data, aggregate_label = np.expand_dims(aggregate_data,-1), np.expand_dims(aggregate_label,-1)\n",
    "y_one_hot = tf.keras.utils.to_categorical(aggregate_label-1, num_classes=5)\n",
    "x_train, x_test, y_train, y_test, training_index = split_train_test_2d(aggregate_data, y_one_hot, test_frac)\n",
    "m = cnn2d_dropout( (x_train.shape[1], x_train.shape[2],1), y_train.shape[1])\n",
    "print(m.summary())"
   ]
  },
  {
   "cell_type": "code",
   "execution_count": 11,
   "metadata": {},
   "outputs": [
    {
     "data": {
      "text/plain": [
       "((863, 6, 5976, 1), (863, 5))"
      ]
     },
     "execution_count": 11,
     "metadata": {},
     "output_type": "execute_result"
    }
   ],
   "source": [
    "x_test.shape, y_test.shape"
   ]
  },
  {
   "cell_type": "code",
   "execution_count": 12,
   "metadata": {},
   "outputs": [
    {
     "name": "stderr",
     "output_type": "stream",
     "text": [
      "2023-07-08 13:54:13.491400: I tensorflow/stream_executor/cuda/cuda_dnn.cc:384] Loaded cuDNN version 8101\n",
      "2023-07-08 13:54:19.478825: I tensorflow/stream_executor/cuda/cuda_blas.cc:1786] TensorFloat-32 will be used for the matrix multiplication. This will only be logged once.\n"
     ]
    },
    {
     "name": "stdout",
     "output_type": "stream",
     "text": [
      "14/14 [==============================] - 0s 14ms/step - loss: 0.0134 - accuracy: 0.9316\n"
     ]
    },
    {
     "data": {
      "text/plain": [
       "[0.013364804908633232, 0.9316338300704956]"
      ]
     },
     "execution_count": 12,
     "metadata": {},
     "output_type": "execute_result"
    }
   ],
   "source": [
    "H = m.fit(x_train, y_train, epochs=500, batch_size=64, validation_data=(x_test, y_test), verbose=False)\n",
    "m.evaluate(x_test, y_test, batch_size=64, verbose=True)"
   ]
  },
  {
   "cell_type": "code",
   "execution_count": 13,
   "metadata": {},
   "outputs": [
    {
     "data": {
      "text/plain": [
       "<matplotlib.legend.Legend at 0x2b097ee88fd0>"
      ]
     },
     "execution_count": 13,
     "metadata": {},
     "output_type": "execute_result"
    },
    {
     "data": {
      "image/png": "[encoded data removed]",
      "text/plain": [
       "<Figure size 1500x1000 with 1 Axes>"
      ]
     },
     "metadata": {},
     "output_type": "display_data"
    }
   ],
   "source": [
    "import matplotlib.pyplot as plt\n",
    "fig = plt.figure(figsize=(15,10))\n",
    "plt.plot(H.history['accuracy'], label='acc')\n",
    "plt.plot(H.history['val_accuracy'], label='val_acc')\n",
    "plt.legend()"
   ]
  },
  {
   "cell_type": "code",
   "execution_count": 36,
   "metadata": {},
   "outputs": [
    {
     "name": "stderr",
     "output_type": "stream",
     "text": [
      "WARNING:absl:Found untraced functions such as _jit_compiled_convolution_op, _jit_compiled_convolution_op, _jit_compiled_convolution_op while saving (showing 3 of 3). These functions will not be directly callable after loading.\n"
     ]
    },
    {
     "name": "stdout",
     "output_type": "stream",
     "text": [
      "INFO:tensorflow:Assets written to: training_results/5way_2d/assets\n"
     ]
    },
    {
     "name": "stderr",
     "output_type": "stream",
     "text": [
      "INFO:tensorflow:Assets written to: training_results/5way_2d/assets\n"
     ]
    }
   ],
   "source": [
    "checkpoint_folder = 'training_results'\n",
    "model_name = '5way_2d'\n",
    "checkpoint_path = checkpoint_folder+'/'+'{0}'.format(model_name)\n",
    "m.save(checkpoint_path)"
   ]
  },
  {
   "cell_type": "code",
   "execution_count": null,
   "metadata": {},
   "outputs": [],
   "source": [
    "from das_lib.evaluation import save_training_history\n",
    "f_name = 'performance/5way_2d.json'\n",
    "save_training_history(f_name, H)"
   ]
  },
  {
   "attachments": {},
   "cell_type": "markdown",
   "metadata": {},
   "source": [
    "# Read the model"
   ]
  },
  {
   "cell_type": "code",
   "execution_count": 1,
   "metadata": {},
   "outputs": [
    {
     "name": "stderr",
     "output_type": "stream",
     "text": [
      "2023-07-10 16:12:03.512670: I tensorflow/core/util/util.cc:169] oneDNN custom operations are on. You may see slightly different numerical results due to floating-point round-off errors from different computation orders. To turn them off, set the environment variable `TF_ENABLE_ONEDNN_OPTS=0`.\n",
      "2023-07-10 16:12:33.895134: I tensorflow/core/platform/cpu_feature_guard.cc:193] This TensorFlow binary is optimized with oneAPI Deep Neural Network Library (oneDNN) to use the following CPU instructions in performance-critical operations:  AVX2 AVX512F AVX512_VNNI FMA\n",
      "To enable them in other operations, rebuild TensorFlow with the appropriate compiler flags.\n",
      "2023-07-10 16:12:36.143280: I tensorflow/core/common_runtime/gpu/gpu_device.cc:1532] Created device /job:localhost/replica:0/task:0/device:GPU:0 with 38251 MB memory:  -> device: 0, name: NVIDIA A100-PCIE-40GB, pci bus id: 0000:2f:00.0, compute capability: 8.0\n"
     ]
    }
   ],
   "source": [
    "import tensorflow as tf\n",
    "checkpoint_folder = 'training_results'\n",
    "model_name = '5way_2d'\n",
    "checkpoint_path = checkpoint_folder+'/'+'{0}'.format(model_name)\n",
    "m = tf.keras.models.load_model(checkpoint_path)"
   ]
  },
  {
   "attachments": {},
   "cell_type": "markdown",
   "metadata": {},
   "source": [
    "# Validate the trained model on Ind. RC-60-1p"
   ]
  },
  {
   "cell_type": "code",
   "execution_count": 12,
   "metadata": {},
   "outputs": [],
   "source": [
    "from utils.sampling import extract_car_data, generate_2d_data\n",
    "import numpy as np\n",
    "root_folder = 'preprocessed_data/'\n",
    "f_x = root_folder+'026_X.txt' \n",
    "f_y = root_folder+'026_y.txt'\n",
    "car_label = 2 # in speed data (023-027), car 2 is label = 2\n",
    "car2_data =  extract_car_data(f_x, f_y, car_label)"
   ]
  },
  {
   "cell_type": "code",
   "execution_count": 13,
   "metadata": {},
   "outputs": [],
   "source": [
    "bin_length, stride, total_bin = 6, 1, None\n",
    "car2_1p_data, car2_1p_label_old = generate_2d_data(car2_data, car_label, bin_length, stride, total_bin)"
   ]
  },
  {
   "cell_type": "code",
   "execution_count": 14,
   "metadata": {},
   "outputs": [
    {
     "data": {
      "text/plain": [
       "(445, 6, 5976)"
      ]
     },
     "execution_count": 14,
     "metadata": {},
     "output_type": "execute_result"
    }
   ],
   "source": [
    "car2_1p_data.shape"
   ]
  },
  {
   "cell_type": "code",
   "execution_count": 15,
   "metadata": {},
   "outputs": [],
   "source": [
    "def expand_data(data, label):\n",
    "    data= np.expand_dims(data,-1)\n",
    "    label = np.array([label]*len(data))\n",
    "    label = tf.keras.utils.to_categorical(label-1, num_classes=5)\n",
    "    return data, label"
   ]
  },
  {
   "cell_type": "code",
   "execution_count": 16,
   "metadata": {},
   "outputs": [],
   "source": [
    "label = 5 # in terms of occupancy, we have 1p driving car 2 => label = 5\n",
    "car2_1p_data, car2_1p_label_new = expand_data(car2_1p_data, label)"
   ]
  },
  {
   "cell_type": "code",
   "execution_count": 17,
   "metadata": {},
   "outputs": [
    {
     "data": {
      "text/plain": [
       "((445, 6, 5976, 1), (445, 5))"
      ]
     },
     "execution_count": 17,
     "metadata": {},
     "output_type": "execute_result"
    }
   ],
   "source": [
    "car2_1p_data.shape, car2_1p_label_new.shape"
   ]
  },
  {
   "cell_type": "code",
   "execution_count": 19,
   "metadata": {},
   "outputs": [
    {
     "name": "stdout",
     "output_type": "stream",
     "text": [
      "14/14 [==============================] - 0s 6ms/step - loss: 0.0503 - accuracy: 0.6854\n"
     ]
    }
   ],
   "source": [
    "results = m.evaluate(car2_1p_data, car2_1p_label_new)"
   ]
  },
  {
   "cell_type": "code",
   "execution_count": 20,
   "metadata": {},
   "outputs": [
    {
     "name": "stdout",
     "output_type": "stream",
     "text": [
      "14/14 [==============================] - 0s 5ms/step\n"
     ]
    }
   ],
   "source": [
    "from das_lib.evaluation import save_wrong_indices\n",
    "f_name = 'performance/wrong_indices/5way_2d_1p.json'\n",
    "save_wrong_indices(f_name, m, car2_1p_data, car2_1p_label_new)"
   ]
  },
  {
   "attachments": {},
   "cell_type": "markdown",
   "metadata": {},
   "source": [
    "# Validate the trained mode on Ind. RC-60-5p"
   ]
  },
  {
   "cell_type": "code",
   "execution_count": 21,
   "metadata": {},
   "outputs": [],
   "source": [
    "root_folder = 'preprocessed_data/'\n",
    "f_x = root_folder+'058_5p_X.txt' \n",
    "f_y = root_folder+'058_5p_y.txt'\n",
    "car_label = 1 #old label, direction west => label=1\n",
    "car2_5p_data = extract_car_data(f_x, f_y, car_label)\n",
    "car2_5p_data, car2_5p_label_old = generate_2d_data(car2_5p_data, car_label, bin_length, stride, total_bin)"
   ]
  },
  {
   "cell_type": "code",
   "execution_count": 22,
   "metadata": {},
   "outputs": [],
   "source": [
    "label = 1 #new label, 5p in car 2 = > label = 1 \n",
    "car2_5p_data, car2_5p_label_new = expand_data(car2_5p_data, label)"
   ]
  },
  {
   "cell_type": "code",
   "execution_count": 23,
   "metadata": {},
   "outputs": [
    {
     "data": {
      "text/plain": [
       "((285, 6, 5976, 1), (285, 5))"
      ]
     },
     "execution_count": 23,
     "metadata": {},
     "output_type": "execute_result"
    }
   ],
   "source": [
    "car2_5p_data.shape, car2_5p_label_new.shape"
   ]
  },
  {
   "cell_type": "code",
   "execution_count": 41,
   "metadata": {},
   "outputs": [
    {
     "name": "stdout",
     "output_type": "stream",
     "text": [
      "9/9 [==============================] - 0s 6ms/step - loss: 0.1319 - accuracy: 0.2842\n"
     ]
    }
   ],
   "source": [
    "results = m.evaluate(car2_5p_data, car2_5p_label_new)"
   ]
  },
  {
   "cell_type": "code",
   "execution_count": 25,
   "metadata": {},
   "outputs": [
    {
     "name": "stdout",
     "output_type": "stream",
     "text": [
      "9/9 [==============================] - 0s 4ms/step\n"
     ]
    }
   ],
   "source": [
    "f_name = 'performance/wrong_indices/5way_2d_5p.json'\n",
    "save_wrong_indices(f_name, m, car2_5p_data, car2_5p_label_new)"
   ]
  }
 ],
 "metadata": {
  "kernelspec": {
   "display_name": "DAS_review",
   "language": "python",
   "name": "das_review"
  },
  "language_info": {
   "codemirror_mode": {
    "name": "ipython",
    "version": 3
   },
   "file_extension": ".py",
   "mimetype": "text/x-python",
   "name": "python",
   "nbconvert_exporter": "python",
   "pygments_lexer": "ipython3",
   "version": "3.8.5"
  }
 },
 "nbformat": 4,
 "nbformat_minor": 4
}

{
 "cells": [
  {
   "attachments": {},
   "cell_type": "markdown",
   "metadata": {},
   "source": [
    "# Meta data overview"
   ]
  },
  {
   "cell_type": "code",
   "execution_count": 1,
   "metadata": {},
   "outputs": [],
   "source": [
    "from fdsobj import FdsObj\n",
    "import numpy as np\n",
    "import matplotlib.pyplot as plt\n",
    "import pandas as pd\n",
    "import os\n",
    "\n",
    "datadir = \"raw/\""
   ]
  },
  {
   "cell_type": "code",
   "execution_count": 2,
   "metadata": {},
   "outputs": [
    {
     "data": {
      "text/plain": [
       "FDS File: 058_Weight_Car2_5_passenger_60kmh_West_And_East_2020.02.26.03.23.01.498982_20210201T185536_OPD.fds\n",
       "data_type: real32\n",
       "start_bin: 0\n",
       "end_bin: 1027\n",
       "start_shot: 0 \n",
       "sample_rate_Hz: 1000.04\n",
       "bin_spacing_m: 0.68063\n",
       "block_size: 1"
      ]
     },
     "execution_count": 2,
     "metadata": {},
     "output_type": "execute_result"
    }
   ],
   "source": [
    "fname = '058_Weight_Car2_5_passenger_60kmh_West_And_East_2020.02.26.03.23.01.498982_20210201T185536_OPD.fds'\n",
    "fname = os.path.join(datadir, fname)\n",
    "\n",
    "fds = FdsObj(fname)\n",
    "fds"
   ]
  },
  {
   "cell_type": "code",
   "execution_count": 3,
   "metadata": {},
   "outputs": [],
   "source": [
    "def reload_data(fname, numShots):\n",
    "    fds = FdsObj(fname)\n",
    "    data = np.asarray([shot for _,shot in zip(range(numShots), fds)])\n",
    "    data = np.transpose(data)\n",
    "    return fds, data #datashape: (bin, shot)"
   ]
  },
  {
   "cell_type": "code",
   "execution_count": 4,
   "metadata": {},
   "outputs": [],
   "source": [
    "numShots = 10000000\n",
    "fds, data = reload_data(fname, numShots)"
   ]
  },
  {
   "cell_type": "code",
   "execution_count": 5,
   "metadata": {},
   "outputs": [
    {
     "name": "stdout",
     "output_type": "stream",
     "text": [
      "(1028, 56096)\n"
     ]
    }
   ],
   "source": [
    "print(data.shape)"
   ]
  },
  {
   "attachments": {},
   "cell_type": "markdown",
   "metadata": {},
   "source": [
    "# generate data"
   ]
  },
  {
   "cell_type": "code",
   "execution_count": 17,
   "metadata": {},
   "outputs": [],
   "source": [
    "speed = \"058\"\n",
    "numShots = data.shape[1]\n",
    "bins = np.array([350, 400,450, 500,550, 600,650, 690])\n",
    "start_bin, end_bin = bins[0], bins[-1]\n",
    "directions  = [\"west\"]\n"
   ]
  },
  {
   "cell_type": "code",
   "execution_count": 18,
   "metadata": {},
   "outputs": [],
   "source": [
    "from utils.data_preprocessing import *"
   ]
  },
  {
   "cell_type": "code",
   "execution_count": 19,
   "metadata": {},
   "outputs": [],
   "source": [
    "fds, data = reload_data(fname, numShots)\n",
    "output_labels = np.zeros((data.shape[0], data.shape[1])) #create placeholder output_labels\n",
    "get_all_cars_window_width = []"
   ]
  },
  {
   "cell_type": "code",
   "execution_count": 20,
   "metadata": {},
   "outputs": [
    {
     "name": "stdout",
     "output_type": "stream",
     "text": [
      "========================================\n",
      "Process 1 car\n",
      "Direction west\n"
     ]
    }
   ],
   "source": [
    "car_label = 1 # with 5p in car 2 => label = 1\n",
    "print(\"=\"*40)\n",
    "print(\"Process {0} car\".format(car_label))\n",
    "d = \"west\"\n",
    "print(\"Direction {0}\".format(d))\n",
    "\n",
    "shot_start, shot_end = get_start_end_shot(str(car_label), speed, d)\n",
    "a1, b1, a2, b2 = get_a1b1_a2b2(bins, shot_start, shot_end) # get slopes\n",
    "check_slope(a1, a2, car_label, d)\n",
    "output_labels, window_width_list = get_labels(output_labels, start_bin, end_bin, a1, b1, a2, b2, car_label, 520, 570)\n",
    "get_all_cars_window_width.extend(window_width_list)"
   ]
  },
  {
   "cell_type": "code",
   "execution_count": 21,
   "metadata": {},
   "outputs": [],
   "source": [
    "import os \n",
    "save_root_folder = 'preprocessed_data/'\n",
    "if not os.path.exists(save_root_folder):\n",
    "    os.mkdir(save_root_folder)\n",
    "\n",
    "\n",
    "output_fname_x, output_fname_y = save_root_folder+'058_5p_X.txt', save_root_folder+'058_5p_y.txt'\n",
    "car_unique_labels = [1] #car2 + 5p => HOV occupancy: label=1 \n",
    "biggest_window_len = 5976 # we will pad all signals to this length\n",
    "export_data_v1(data, output_labels, start_bin, end_bin, biggest_window_len, output_fname_x, output_fname_y)"
   ]
  },
  {
   "cell_type": "code",
   "execution_count": null,
   "metadata": {},
   "outputs": [],
   "source": []
  },
  {
   "cell_type": "code",
   "execution_count": null,
   "metadata": {},
   "outputs": [],
   "source": []
  }
 ],
 "metadata": {
  "kernelspec": {
   "display_name": "DAS_review",
   "language": "python",
   "name": "das_review"
  },
  "language_info": {
   "codemirror_mode": {
    "name": "ipython",
    "version": 3
   },
   "file_extension": ".py",
   "mimetype": "text/x-python",
   "name": "python",
   "nbconvert_exporter": "python",
   "pygments_lexer": "ipython3",
   "version": "3.8.5"
  }
 },
 "nbformat": 4,
 "nbformat_minor": 4
}

{
 "cells": [
  {
   "cell_type": "markdown",
   "metadata": {},
   "source": [
    "# Load occupancy data: RC-60-Mix"
   ]
  },
  {
   "cell_type": "code",
   "execution_count": 1,
   "metadata": {},
   "outputs": [],
   "source": [
    "import numpy as np \n",
    "import pandas as pd"
   ]
  },
  {
   "cell_type": "code",
   "execution_count": 2,
   "metadata": {},
   "outputs": [
    {
     "name": "stdout",
     "output_type": "stream",
     "text": [
      "(4340, 5976) (4340, 1)\n"
     ]
    }
   ],
   "source": [
    "root_folder = 'preprocessed_data_magazine/'\n",
    "f_x = root_folder + '058_5p_to_1p_X.txt'\n",
    "f_y = root_folder + '058_5p_to_1p_y.txt'\n",
    "data = pd.read_csv(f_x, delimiter=' ', header = None)\n",
    "labels = pd.read_csv(f_y, delimiter=' ', header = None)\n",
    "print(data.shape, labels.shape)"
   ]
  },
  {
   "cell_type": "code",
   "execution_count": 3,
   "metadata": {},
   "outputs": [
    {
     "data": {
      "text/plain": [
       "1    902\n",
       "3    902\n",
       "4    902\n",
       "2    852\n",
       "5    782\n",
       "dtype: int64"
      ]
     },
     "execution_count": 3,
     "metadata": {},
     "output_type": "execute_result"
    }
   ],
   "source": [
    "labels.value_counts()\n",
    "# label 1: 5p\n",
    "# label 2: 4p\n",
    "# label 3: 3p\n",
    "# label 4: 2p\n",
    "# label 5: 1p"
   ]
  },
  {
   "cell_type": "code",
   "execution_count": 4,
   "metadata": {},
   "outputs": [],
   "source": [
    "def count_HOV_LOV(labels):# HOV: label=1 ; LOV: label=2\n",
    "    count_hov = 0\n",
    "    count_lov = 0\n",
    "    HOV_index = []\n",
    "    LOV_index = []\n",
    "    if len(labels.shape)==2:\n",
    "        labels = np.squeeze(labels).tolist()\n",
    "    for idx, l in enumerate(labels):\n",
    "        if l==1:\n",
    "            count_hov+=1\n",
    "            HOV_index.append(idx)\n",
    "        elif l==2:\n",
    "            count_lov+=1\n",
    "            LOV_index.append(idx)\n",
    "        else:\n",
    "            raise SystemExit(\"should have two unique labels in HOV_LOV problem!\")\n",
    "    print('HOV : {0}'.format(count_hov))\n",
    "    print('LOV : {0}'.format(count_lov))\n",
    "    return HOV_index, LOV_index\n",
    "    "
   ]
  },
  {
   "cell_type": "code",
   "execution_count": 5,
   "metadata": {},
   "outputs": [],
   "source": [
    "def transfer_to_HOV_LOV(labels):# HOV: label=1 ; LOV: label=2\n",
    "    if len(labels.shape)==2:\n",
    "        labels = np.squeeze(labels).tolist()\n",
    "    for idx, l in enumerate(labels):\n",
    "        if l == 1:#5people: HOV\n",
    "            labels[idx]=1\n",
    "        elif l==2:#4people: HOV\n",
    "            labels[idx]=1\n",
    "        elif l==3:#3people\n",
    "            labels[idx]=1\n",
    "        elif l==4:#2people\n",
    "            labels[idx]=2\n",
    "        elif l==5:\n",
    "            labels[idx]=2\n",
    "        else:\n",
    "            raise SystemExit(\"invalid label\")\n",
    "    labels = np.array(labels)\n",
    "    labels = np.expand_dims(labels, axis=1)\n",
    "    return labels"
   ]
  },
  {
   "cell_type": "code",
   "execution_count": 6,
   "metadata": {},
   "outputs": [],
   "source": [
    "hov_lov_labels = transfer_to_HOV_LOV(labels)"
   ]
  },
  {
   "cell_type": "code",
   "execution_count": 7,
   "metadata": {},
   "outputs": [
    {
     "name": "stdout",
     "output_type": "stream",
     "text": [
      "HOV : 2656\n",
      "LOV : 1684\n"
     ]
    }
   ],
   "source": [
    "_,_=count_HOV_LOV(hov_lov_labels)"
   ]
  },
  {
   "cell_type": "markdown",
   "metadata": {},
   "source": [
    "# RC-60-Mix: extract subdata by each label and produce 2d data"
   ]
  },
  {
   "cell_type": "code",
   "execution_count": 8,
   "metadata": {},
   "outputs": [],
   "source": [
    "from utils.sampling import extract_car_data, generate_2d_data, get_all_cars_2d"
   ]
  },
  {
   "cell_type": "code",
   "execution_count": 9,
   "metadata": {},
   "outputs": [],
   "source": [
    "bin_length, stride = 6, 1\n",
    "total_bin = None"
   ]
  },
  {
   "cell_type": "code",
   "execution_count": 10,
   "metadata": {},
   "outputs": [],
   "source": [
    "unique_labels = [1, 2, 3, 4, 5]\n",
    "aggregate_data, aggregate_label = get_all_cars_2d(data, labels, unique_labels, bin_length, stride, total_bin)"
   ]
  },
  {
   "cell_type": "code",
   "execution_count": 11,
   "metadata": {},
   "outputs": [
    {
     "data": {
      "text/plain": [
       "((4310, 6, 5976), (4310,))"
      ]
     },
     "execution_count": 11,
     "metadata": {},
     "output_type": "execute_result"
    }
   ],
   "source": [
    "aggregate_data.shape, aggregate_label.shape"
   ]
  },
  {
   "cell_type": "markdown",
   "metadata": {},
   "source": [
    "# Transfer exact occupancy labels to HOV/LOV\n",
    "* (1) LOV: 1 or 2 people => label = 2 \n",
    "* (2) HOV: 3, 4, or 5 people => label = 1"
   ]
  },
  {
   "cell_type": "code",
   "execution_count": 12,
   "metadata": {},
   "outputs": [],
   "source": [
    "new_aggregate_label = transfer_to_HOV_LOV(aggregate_label.copy())"
   ]
  },
  {
   "cell_type": "code",
   "execution_count": 13,
   "metadata": {},
   "outputs": [
    {
     "data": {
      "text/plain": [
       "(array([1]), array([2]))"
      ]
     },
     "execution_count": 13,
     "metadata": {},
     "output_type": "execute_result"
    }
   ],
   "source": [
    "min(new_aggregate_label), max(new_aggregate_label)"
   ]
  },
  {
   "cell_type": "code",
   "execution_count": 14,
   "metadata": {},
   "outputs": [
    {
     "name": "stdout",
     "output_type": "stream",
     "text": [
      "HOV : 2638\n",
      "LOV : 1672\n"
     ]
    }
   ],
   "source": [
    "# after generating 2d data\n",
    "hov_index, lov_index = count_HOV_LOV(new_aggregate_label)"
   ]
  },
  {
   "cell_type": "code",
   "execution_count": 15,
   "metadata": {
    "scrolled": true
   },
   "outputs": [
    {
     "data": {
      "text/plain": [
       "0.38793503480278424"
      ]
     },
     "execution_count": 15,
     "metadata": {},
     "output_type": "execute_result"
    }
   ],
   "source": [
    "# imbalance ratio\n",
    "1672/(2638+1672)"
   ]
  },
  {
   "cell_type": "code",
   "execution_count": 16,
   "metadata": {},
   "outputs": [
    {
     "data": {
      "text/plain": [
       "(numpy.ndarray, numpy.ndarray)"
      ]
     },
     "execution_count": 16,
     "metadata": {},
     "output_type": "execute_result"
    }
   ],
   "source": [
    "type(aggregate_data), type(new_aggregate_label)"
   ]
  },
  {
   "cell_type": "markdown",
   "metadata": {},
   "source": [
    "# oversampling minority class"
   ]
  },
  {
   "cell_type": "code",
   "execution_count": 17,
   "metadata": {},
   "outputs": [],
   "source": [
    "import random \n",
    "deficit = len(hov_index)-len(lov_index)\n",
    "random.seed(10)\n",
    "random_oversampling_index=random.sample(lov_index, k=deficit)\n"
   ]
  },
  {
   "cell_type": "code",
   "execution_count": 18,
   "metadata": {},
   "outputs": [
    {
     "data": {
      "text/plain": [
       "((4310, 6, 5976), (4310, 1))"
      ]
     },
     "execution_count": 18,
     "metadata": {},
     "output_type": "execute_result"
    }
   ],
   "source": [
    "aggregate_data.shape, new_aggregate_label.shape"
   ]
  },
  {
   "cell_type": "code",
   "execution_count": 19,
   "metadata": {},
   "outputs": [],
   "source": [
    "random_lov_x = aggregate_data[random_oversampling_index]\n",
    "random_lov_y = new_aggregate_label[random_oversampling_index]"
   ]
  },
  {
   "cell_type": "code",
   "execution_count": 20,
   "metadata": {},
   "outputs": [
    {
     "name": "stdout",
     "output_type": "stream",
     "text": [
      "(5276, 6, 5976) (5276, 1)\n"
     ]
    }
   ],
   "source": [
    "oversampling_x = np.concatenate([aggregate_data,random_lov_x], axis=0)\n",
    "oversampling_y = np.concatenate([new_aggregate_label,random_lov_y], axis=0)\n",
    "print(oversampling_x.shape, oversampling_y.shape)"
   ]
  },
  {
   "cell_type": "code",
   "execution_count": 21,
   "metadata": {},
   "outputs": [
    {
     "name": "stdout",
     "output_type": "stream",
     "text": [
      "HOV : 2638\n",
      "LOV : 2638\n"
     ]
    }
   ],
   "source": [
    "_,_ = count_HOV_LOV(oversampling_y)"
   ]
  },
  {
   "cell_type": "markdown",
   "metadata": {},
   "source": [
    "# Train 2d cnn on RC-60-Mix"
   ]
  },
  {
   "cell_type": "code",
   "execution_count": 22,
   "metadata": {},
   "outputs": [
    {
     "name": "stderr",
     "output_type": "stream",
     "text": [
      "2023-07-11 17:23:12.881380: I tensorflow/core/util/util.cc:169] oneDNN custom operations are on. You may see slightly different numerical results due to floating-point round-off errors from different computation orders. To turn them off, set the environment variable `TF_ENABLE_ONEDNN_OPTS=0`.\n"
     ]
    }
   ],
   "source": [
    "from das_lib.models import cnn2d_dropout\n",
    "from das_lib.funs import split_train_test_2d"
   ]
  },
  {
   "cell_type": "code",
   "execution_count": 23,
   "metadata": {},
   "outputs": [
    {
     "name": "stderr",
     "output_type": "stream",
     "text": [
      "2023-07-11 17:23:47.429511: I tensorflow/core/platform/cpu_feature_guard.cc:193] This TensorFlow binary is optimized with oneAPI Deep Neural Network Library (oneDNN) to use the following CPU instructions in performance-critical operations:  AVX2 AVX512F AVX512_VNNI FMA\n",
      "To enable them in other operations, rebuild TensorFlow with the appropriate compiler flags.\n",
      "2023-07-11 17:23:50.269638: I tensorflow/core/common_runtime/gpu/gpu_device.cc:1532] Created device /job:localhost/replica:0/task:0/device:GPU:0 with 33345 MB memory:  -> device: 0, name: NVIDIA A100-PCIE-40GB, pci bus id: 0000:d8:00.0, compute capability: 8.0\n"
     ]
    },
    {
     "name": "stdout",
     "output_type": "stream",
     "text": [
      "Model: \"1dcnn_model\"\n",
      "_________________________________________________________________\n",
      " Layer (type)                Output Shape              Param #   \n",
      "=================================================================\n",
      " input_1 (InputLayer)        [(None, 6, 5976, 1)]      0         \n",
      "                                                                 \n",
      " conv2d (Conv2D)             (None, 4, 5913, 16)       3088      \n",
      "                                                                 \n",
      " max_pooling2d (MaxPooling2D  (None, 1, 739, 16)       0         \n",
      " )                                                               \n",
      "                                                                 \n",
      " dropout (Dropout)           (None, 1, 739, 16)        0         \n",
      "                                                                 \n",
      " conv2d_1 (Conv2D)           (None, 1, 724, 32)        8224      \n",
      "                                                                 \n",
      " max_pooling2d_1 (MaxPooling  (None, 1, 90, 32)        0         \n",
      " 2D)                                                             \n",
      "                                                                 \n",
      " dropout_1 (Dropout)         (None, 1, 90, 32)         0         \n",
      "                                                                 \n",
      " conv2d_2 (Conv2D)           (None, 1, 83, 16)         4112      \n",
      "                                                                 \n",
      " max_pooling2d_2 (MaxPooling  (None, 1, 10, 16)        0         \n",
      " 2D)                                                             \n",
      "                                                                 \n",
      " dropout_2 (Dropout)         (None, 1, 10, 16)         0         \n",
      "                                                                 \n",
      " flatten (Flatten)           (None, 160)               0         \n",
      "                                                                 \n",
      " dense (Dense)               (None, 128)               20608     \n",
      "                                                                 \n",
      " dense_1 (Dense)             (None, 64)                8256      \n",
      "                                                                 \n",
      " dense_2 (Dense)             (None, 2)                 130       \n",
      "                                                                 \n",
      "=================================================================\n",
      "Total params: 44,418\n",
      "Trainable params: 44,418\n",
      "Non-trainable params: 0\n",
      "_________________________________________________________________\n",
      "None\n"
     ]
    }
   ],
   "source": [
    "from das_lib.funs import *\n",
    "test_frac = .2\n",
    "aggregate_data= np.expand_dims(aggregate_data,-1)\n",
    "y_one_hot = tf.keras.utils.to_categorical(new_aggregate_label-1, num_classes=2)\n",
    "x_train, x_test, y_train, y_test, training_index = split_train_test_2d(aggregate_data, y_one_hot, test_frac)\n",
    "m = cnn2d_dropout( (x_train.shape[1], x_train.shape[2],1), y_train.shape[1])\n",
    "print(m.summary())"
   ]
  },
  {
   "cell_type": "code",
   "execution_count": 24,
   "metadata": {},
   "outputs": [
    {
     "name": "stderr",
     "output_type": "stream",
     "text": [
      "2023-07-11 17:26:01.033879: I tensorflow/stream_executor/cuda/cuda_dnn.cc:384] Loaded cuDNN version 8101\n",
      "2023-07-11 17:26:07.562587: I tensorflow/stream_executor/cuda/cuda_blas.cc:1786] TensorFloat-32 will be used for the matrix multiplication. This will only be logged once.\n"
     ]
    },
    {
     "name": "stdout",
     "output_type": "stream",
     "text": [
      "14/14 [==============================] - 0s 14ms/step - loss: 0.0118 - accuracy: 0.9676\n"
     ]
    },
    {
     "data": {
      "text/plain": [
       "[0.011798837222158909, 0.967555046081543]"
      ]
     },
     "execution_count": 24,
     "metadata": {},
     "output_type": "execute_result"
    }
   ],
   "source": [
    "H = m.fit(x_train, y_train, epochs=500, batch_size=64, validation_data=(x_test, y_test), verbose=False)\n",
    "m.evaluate(x_test, y_test, batch_size=64, verbose=True)"
   ]
  },
  {
   "cell_type": "code",
   "execution_count": 25,
   "metadata": {},
   "outputs": [
    {
     "data": {
      "text/plain": [
       "<matplotlib.legend.Legend at 0x2b13db109ee0>"
      ]
     },
     "execution_count": 25,
     "metadata": {},
     "output_type": "execute_result"
    },
    {
     "data": {
      "image/png": "[encoded data removed]",
      "text/plain": [
       "<Figure size 1500x1000 with 1 Axes>"
      ]
     },
     "metadata": {},
     "output_type": "display_data"
    }
   ],
   "source": [
    "import matplotlib.pyplot as plt\n",
    "fig = plt.figure(figsize=(15,10))\n",
    "plt.plot(H.history['accuracy'], label='acc')\n",
    "plt.plot(H.history['val_accuracy'], label='val_acc')\n",
    "plt.legend()"
   ]
  },
  {
   "cell_type": "code",
   "execution_count": 26,
   "metadata": {},
   "outputs": [
    {
     "name": "stderr",
     "output_type": "stream",
     "text": [
      "WARNING:absl:Found untraced functions such as _jit_compiled_convolution_op, _jit_compiled_convolution_op, _jit_compiled_convolution_op while saving (showing 3 of 3). These functions will not be directly callable after loading.\n"
     ]
    },
    {
     "name": "stdout",
     "output_type": "stream",
     "text": [
      "INFO:tensorflow:Assets written to: training_results/2way_2d_plus/assets\n"
     ]
    },
    {
     "name": "stderr",
     "output_type": "stream",
     "text": [
      "INFO:tensorflow:Assets written to: training_results/2way_2d_plus/assets\n"
     ]
    }
   ],
   "source": [
    "checkpoint_folder = 'training_results'\n",
    "model_name = '2way_2d_plus'\n",
    "checkpoint_path = checkpoint_folder+'/'+'{0}'.format(model_name)\n",
    "m.save(checkpoint_path)"
   ]
  },
  {
   "cell_type": "code",
   "execution_count": 27,
   "metadata": {},
   "outputs": [],
   "source": [
    "from das_lib.evaluation import save_training_history\n",
    "f_name = 'performance/2way_2d_plus.json'\n",
    "save_training_history(f_name, H)"
   ]
  },
  {
   "cell_type": "markdown",
   "metadata": {},
   "source": [
    "# Read the trained model"
   ]
  },
  {
   "cell_type": "code",
   "execution_count": 28,
   "metadata": {},
   "outputs": [],
   "source": [
    "import tensorflow as tf\n",
    "checkpoint_folder = 'training_results'\n",
    "model_name = '2way_2d_plus'\n",
    "checkpoint_path = checkpoint_folder+'/'+'{0}'.format(model_name)\n",
    "m = tf.keras.models.load_model(checkpoint_path)"
   ]
  },
  {
   "cell_type": "markdown",
   "metadata": {},
   "source": [
    "# Validate the trained model on Ind. RC-60-1p"
   ]
  },
  {
   "cell_type": "code",
   "execution_count": 29,
   "metadata": {},
   "outputs": [],
   "source": [
    "from utils.sampling import extract_car_data, generate_2d_data\n",
    "root_folder = '../DAS_magazine/preprocessed_data/'\n",
    "f_x = root_folder+'non_SD_datax026.txt' \n",
    "f_y = root_folder+'datay026.txt'\n",
    "car_label = 2 # in speed data (023-027), car 2 is label = 2\n",
    "car2_data =  extract_car_data(f_x, f_y, car_label)"
   ]
  },
  {
   "cell_type": "code",
   "execution_count": 30,
   "metadata": {},
   "outputs": [],
   "source": [
    "bin_length, stride, total_bin = 6, 1, None\n",
    "car2_1p_data, car2_1p_label_old = generate_2d_data(car2_data, car_label, bin_length, stride, total_bin)"
   ]
  },
  {
   "cell_type": "code",
   "execution_count": 31,
   "metadata": {},
   "outputs": [],
   "source": [
    "def expand_data(data, label, num_classes):\n",
    "    data= np.expand_dims(data,-1)\n",
    "    label = np.array([label]*len(data))\n",
    "    label = tf.keras.utils.to_categorical(label-1, num_classes)\n",
    "    return data, label"
   ]
  },
  {
   "cell_type": "code",
   "execution_count": 32,
   "metadata": {},
   "outputs": [],
   "source": [
    "label = 2 # in terms of occupancy, we have 1p driving car 2 => label = 2\n",
    "num_classes = 2\n",
    "car2_1p_data, car2_1p_label_new = expand_data(car2_1p_data, label, num_classes)"
   ]
  },
  {
   "cell_type": "code",
   "execution_count": 33,
   "metadata": {},
   "outputs": [
    {
     "name": "stdout",
     "output_type": "stream",
     "text": [
      "14/14 [==============================] - 0s 9ms/step - loss: 0.2136 - accuracy: 0.5169\n"
     ]
    },
    {
     "data": {
      "text/plain": [
       "[0.2136208713054657, 0.516853928565979]"
      ]
     },
     "execution_count": 33,
     "metadata": {},
     "output_type": "execute_result"
    }
   ],
   "source": [
    "m.evaluate(car2_1p_data, car2_1p_label_new)"
   ]
  },
  {
   "cell_type": "code",
   "execution_count": 34,
   "metadata": {},
   "outputs": [
    {
     "name": "stdout",
     "output_type": "stream",
     "text": [
      "14/14 [==============================] - 0s 4ms/step\n"
     ]
    }
   ],
   "source": [
    "from das_lib.evaluation import save_wrong_indices\n",
    "f_name = 'performance/wrong_indices/2way_2d_1p_plus.json'\n",
    "save_wrong_indices(f_name, m, car2_1p_data, car2_1p_label_new)"
   ]
  },
  {
   "cell_type": "markdown",
   "metadata": {},
   "source": [
    "# Validate the trained mode on Ind. RC-60-5p"
   ]
  },
  {
   "cell_type": "code",
   "execution_count": 35,
   "metadata": {},
   "outputs": [],
   "source": [
    "root_folder = '../DAS_magazine/preprocessed_data_magazine/'\n",
    "f_x = root_folder+'058_5p_X.txt' \n",
    "f_y = root_folder+'058_5p_y.txt'\n",
    "car_label = 1 #old label, direction west => label=1\n",
    "car2_5p_data = extract_car_data(f_x, f_y, car_label)\n",
    "car2_5p_data, car2_5p_label_old = generate_2d_data(car2_5p_data, car_label, bin_length, stride, total_bin)"
   ]
  },
  {
   "cell_type": "code",
   "execution_count": 36,
   "metadata": {},
   "outputs": [],
   "source": [
    "label = 1 #new label, 5p in car 2 = > label = 1 \n",
    "num_classes = 2\n",
    "car2_5p_data, car2_5p_label_new = expand_data(car2_5p_data, label, num_classes)"
   ]
  },
  {
   "cell_type": "code",
   "execution_count": 37,
   "metadata": {},
   "outputs": [
    {
     "data": {
      "text/plain": [
       "((285, 6, 5976, 1), (285, 2))"
      ]
     },
     "execution_count": 37,
     "metadata": {},
     "output_type": "execute_result"
    }
   ],
   "source": [
    "car2_5p_data.shape, car2_5p_label_new.shape"
   ]
  },
  {
   "cell_type": "code",
   "execution_count": 38,
   "metadata": {},
   "outputs": [
    {
     "name": "stdout",
     "output_type": "stream",
     "text": [
      "9/9 [==============================] - 0s 6ms/step - loss: 0.2360 - accuracy: 0.5298\n"
     ]
    },
    {
     "data": {
      "text/plain": [
       "[0.23595936596393585, 0.5298245549201965]"
      ]
     },
     "execution_count": 38,
     "metadata": {},
     "output_type": "execute_result"
    }
   ],
   "source": [
    "m.evaluate(car2_5p_data, car2_5p_label_new)"
   ]
  },
  {
   "cell_type": "code",
   "execution_count": 39,
   "metadata": {},
   "outputs": [
    {
     "name": "stdout",
     "output_type": "stream",
     "text": [
      "9/9 [==============================] - 0s 4ms/step\n"
     ]
    }
   ],
   "source": [
    "f_name = 'performance/wrong_indices/2way_2d_5p_plus.json'\n",
    "save_wrong_indices(f_name, m, car2_5p_data, car2_5p_label_new)"
   ]
  }
 ],
 "metadata": {
  "kernelspec": {
   "display_name": "DAS_review",
   "language": "python",
   "name": "das_review"
  },
  "language_info": {
   "codemirror_mode": {
    "name": "ipython",
    "version": 3
   },
   "file_extension": ".py",
   "mimetype": "text/x-python",
   "name": "python",
   "nbconvert_exporter": "python",
   "pygments_lexer": "ipython3",
   "version": "3.8.5"
  }
 },
 "nbformat": 4,
 "nbformat_minor": 4
}

{
 "cells": [
  {
   "attachments": {},
   "cell_type": "markdown",
   "metadata": {},
   "source": [
    "# Load occupancy data: RC-60-Mix"
   ]
  },
  {
   "cell_type": "code",
   "execution_count": 1,
   "metadata": {},
   "outputs": [],
   "source": [
    "import numpy as np \n",
    "import pandas as pd"
   ]
  },
  {
   "cell_type": "code",
   "execution_count": 2,
   "metadata": {},
   "outputs": [
    {
     "name": "stdout",
     "output_type": "stream",
     "text": [
      "(4340, 5976) (4340, 1)\n"
     ]
    }
   ],
   "source": [
    "root_folder = 'preprocessed_data/'\n",
    "f_x = root_folder + '058_5p_to_1p_X.txt'\n",
    "f_y = root_folder + '058_5p_to_1p_y.txt'\n",
    "data = pd.read_csv(f_x, delimiter=' ', header = None)\n",
    "labels = pd.read_csv(f_y, delimiter=' ', header = None)\n",
    "print(data.shape, labels.shape)"
   ]
  },
  {
   "attachments": {},
   "cell_type": "markdown",
   "metadata": {},
   "source": [
    "# Transfer exact occupancy labels to HOV/LOV "
   ]
  },
  {
   "cell_type": "code",
   "execution_count": 4,
   "metadata": {},
   "outputs": [],
   "source": [
    "def transfer_to_HOV_LOV(labels):# HOV: label=1 ; LOV: label=2\n",
    "    if len(labels.shape)==2:\n",
    "        labels = np.squeeze(labels).tolist()\n",
    "    for idx, l in enumerate(labels):\n",
    "        if l == 1:#5people: HOV\n",
    "            labels[idx]=1\n",
    "        elif l==2:#4people: HOV\n",
    "            labels[idx]=1\n",
    "        elif l==3:#3people\n",
    "            labels[idx]=1\n",
    "        elif l==4:#2people\n",
    "            labels[idx]=2\n",
    "        elif l==5: #1person\n",
    "            labels[idx]=2\n",
    "        else:\n",
    "            raise SystemExit(\"invalid label\")\n",
    "    labels = np.array(labels)\n",
    "    labels = np.expand_dims(labels, axis=1)\n",
    "    return labels"
   ]
  },
  {
   "cell_type": "code",
   "execution_count": 8,
   "metadata": {},
   "outputs": [],
   "source": [
    "new_labels = transfer_to_HOV_LOV(labels.copy())"
   ]
  },
  {
   "cell_type": "code",
   "execution_count": 12,
   "metadata": {},
   "outputs": [],
   "source": [
    "new_labels = pd.DataFrame(new_labels)"
   ]
  },
  {
   "attachments": {},
   "cell_type": "markdown",
   "metadata": {},
   "source": [
    "# Train 1d cnn on RC-60-Mix"
   ]
  },
  {
   "cell_type": "code",
   "execution_count": 3,
   "metadata": {},
   "outputs": [
    {
     "name": "stderr",
     "output_type": "stream",
     "text": [
      "2023-07-10 14:25:56.093783: I tensorflow/core/util/util.cc:169] oneDNN custom operations are on. You may see slightly different numerical results due to floating-point round-off errors from different computation orders. To turn them off, set the environment variable `TF_ENABLE_ONEDNN_OPTS=0`.\n"
     ]
    }
   ],
   "source": [
    "from das_lib.models import cnn1d\n",
    "from das_lib.funs import split_train_test_2d\n",
    "import tensorflow as tf"
   ]
  },
  {
   "cell_type": "code",
   "execution_count": 10,
   "metadata": {},
   "outputs": [],
   "source": [
    "import random\n",
    "\n",
    "def split_train_test_1d(data, labels, frac=.8, index=None):\n",
    "    x_train = data.sample(frac=frac) if index is None else data.iloc[index]\n",
    "    x_test = data.drop(x_train.index)\n",
    "    y_train = labels.iloc[x_train.index]\n",
    "    y_test = labels.drop(x_train.index)\n",
    "    return x_train, x_test, y_train, y_test, x_train.index"
   ]
  },
  {
   "cell_type": "code",
   "execution_count": 14,
   "metadata": {},
   "outputs": [],
   "source": [
    "x_train, x_test, y_train, y_test, x_train_index = split_train_test_1d(data, new_labels, frac=.67, index=None)\n",
    "x_train = np.expand_dims(x_train,-1)\n",
    "x_test = np.expand_dims(x_test,-1)\n",
    "num_classes = 2\n",
    "y_train = tf.keras.utils.to_categorical(y_train-1, num_classes)\n",
    "y_test = tf.keras.utils.to_categorical(y_test-1, num_classes)"
   ]
  },
  {
   "cell_type": "code",
   "execution_count": 15,
   "metadata": {},
   "outputs": [
    {
     "data": {
      "text/plain": [
       "((2908, 5976, 1), (1432, 5976, 1), (2908, 2), (1432, 2))"
      ]
     },
     "execution_count": 15,
     "metadata": {},
     "output_type": "execute_result"
    }
   ],
   "source": [
    "x_train.shape, x_test.shape, y_train.shape, y_test.shape"
   ]
  },
  {
   "cell_type": "code",
   "execution_count": 16,
   "metadata": {},
   "outputs": [
    {
     "name": "stderr",
     "output_type": "stream",
     "text": [
      "2023-07-10 14:31:58.486037: I tensorflow/core/platform/cpu_feature_guard.cc:193] This TensorFlow binary is optimized with oneAPI Deep Neural Network Library (oneDNN) to use the following CPU instructions in performance-critical operations:  AVX2 AVX512F AVX512_VNNI FMA\n",
      "To enable them in other operations, rebuild TensorFlow with the appropriate compiler flags.\n",
      "2023-07-10 14:32:00.801019: I tensorflow/core/common_runtime/gpu/gpu_device.cc:1532] Created device /job:localhost/replica:0/task:0/device:GPU:0 with 38251 MB memory:  -> device: 0, name: NVIDIA A100-PCIE-40GB, pci bus id: 0000:2f:00.0, compute capability: 8.0\n"
     ]
    },
    {
     "name": "stdout",
     "output_type": "stream",
     "text": [
      "Model: \"1dcnn_model\"\n",
      "_________________________________________________________________\n",
      " Layer (type)                Output Shape              Param #   \n",
      "=================================================================\n",
      " input_1 (InputLayer)        [(None, 5976, 1)]         0         \n",
      "                                                                 \n",
      " conv1d (Conv1D)             (None, 2957, 16)          1040      \n",
      "                                                                 \n",
      " max_pooling1d (MaxPooling1D  (None, 369, 16)          0         \n",
      " )                                                               \n",
      "                                                                 \n",
      " conv1d_1 (Conv1D)           (None, 169, 32)           16416     \n",
      "                                                                 \n",
      " max_pooling1d_1 (MaxPooling  (None, 21, 32)           0         \n",
      " 1D)                                                             \n",
      "                                                                 \n",
      " conv1d_2 (Conv1D)           (None, 3, 16)             8208      \n",
      "                                                                 \n",
      " flatten (Flatten)           (None, 48)                0         \n",
      "                                                                 \n",
      " dense (Dense)               (None, 128)               6272      \n",
      "                                                                 \n",
      " dense_1 (Dense)             (None, 64)                8256      \n",
      "                                                                 \n",
      " dense_2 (Dense)             (None, 2)                 130       \n",
      "                                                                 \n",
      "=================================================================\n",
      "Total params: 40,322\n",
      "Trainable params: 40,322\n",
      "Non-trainable params: 0\n",
      "_________________________________________________________________\n",
      "None\n"
     ]
    }
   ],
   "source": [
    "m = cnn1d( (x_train.shape[1],1), y_train.shape[1])\n",
    "print(m.summary())"
   ]
  },
  {
   "cell_type": "code",
   "execution_count": 17,
   "metadata": {},
   "outputs": [
    {
     "name": "stderr",
     "output_type": "stream",
     "text": [
      "2023-07-10 14:32:57.040461: I tensorflow/stream_executor/cuda/cuda_dnn.cc:384] Loaded cuDNN version 8101\n",
      "2023-07-10 14:33:03.229544: I tensorflow/stream_executor/cuda/cuda_blas.cc:1786] TensorFloat-32 will be used for the matrix multiplication. This will only be logged once.\n"
     ]
    },
    {
     "name": "stdout",
     "output_type": "stream",
     "text": [
      "23/23 [==============================] - 0s 4ms/step - loss: 0.6881 - accuracy: 0.8959\n"
     ]
    },
    {
     "data": {
      "text/plain": [
       "[0.6881490349769592, 0.8959497213363647]"
      ]
     },
     "execution_count": 17,
     "metadata": {},
     "output_type": "execute_result"
    }
   ],
   "source": [
    "H = m.fit(x_train, y_train, epochs=100, batch_size=64, validation_data=(x_test, y_test), verbose=False)\n",
    "m.evaluate(x_test, y_test, batch_size=64, verbose=True)"
   ]
  },
  {
   "cell_type": "code",
   "execution_count": 18,
   "metadata": {},
   "outputs": [
    {
     "name": "stderr",
     "output_type": "stream",
     "text": [
      "WARNING:absl:Found untraced functions such as _jit_compiled_convolution_op, _jit_compiled_convolution_op, _jit_compiled_convolution_op while saving (showing 3 of 3). These functions will not be directly callable after loading.\n"
     ]
    },
    {
     "name": "stdout",
     "output_type": "stream",
     "text": [
      "INFO:tensorflow:Assets written to: training_results/2way_1d/assets\n"
     ]
    },
    {
     "name": "stderr",
     "output_type": "stream",
     "text": [
      "INFO:tensorflow:Assets written to: training_results/2way_1d/assets\n"
     ]
    }
   ],
   "source": [
    "checkpoint_folder = 'training_results'\n",
    "model_name = '2way_1d'\n",
    "checkpoint_path = checkpoint_folder+'/'+'{0}'.format(model_name)\n",
    "m.save(checkpoint_path)"
   ]
  },
  {
   "cell_type": "code",
   "execution_count": null,
   "metadata": {},
   "outputs": [],
   "source": [
    "from das_lib.evaluation import save_training_history\n",
    "f_name = 'performance/2way_1d.json'\n",
    "save_training_history(f_name, H)"
   ]
  },
  {
   "attachments": {},
   "cell_type": "markdown",
   "metadata": {},
   "source": [
    "# Read the trained model"
   ]
  },
  {
   "cell_type": "code",
   "execution_count": 2,
   "metadata": {},
   "outputs": [
    {
     "name": "stderr",
     "output_type": "stream",
     "text": [
      "2023-07-10 15:30:20.617349: I tensorflow/core/util/util.cc:169] oneDNN custom operations are on. You may see slightly different numerical results due to floating-point round-off errors from different computation orders. To turn them off, set the environment variable `TF_ENABLE_ONEDNN_OPTS=0`.\n",
      "2023-07-10 15:30:44.545048: I tensorflow/core/platform/cpu_feature_guard.cc:193] This TensorFlow binary is optimized with oneAPI Deep Neural Network Library (oneDNN) to use the following CPU instructions in performance-critical operations:  AVX2 AVX512F AVX512_VNNI FMA\n",
      "To enable them in other operations, rebuild TensorFlow with the appropriate compiler flags.\n",
      "2023-07-10 15:30:47.158483: I tensorflow/core/common_runtime/gpu/gpu_device.cc:1532] Created device /job:localhost/replica:0/task:0/device:GPU:0 with 38251 MB memory:  -> device: 0, name: NVIDIA A100-PCIE-40GB, pci bus id: 0000:2f:00.0, compute capability: 8.0\n"
     ]
    }
   ],
   "source": [
    "import tensorflow as tf\n",
    "checkpoint_folder = 'training_results'\n",
    "model_name = '2way_1d'\n",
    "checkpoint_path = checkpoint_folder+'/'+'{0}'.format(model_name)\n",
    "m = tf.keras.models.load_model(checkpoint_path)\n"
   ]
  },
  {
   "attachments": {},
   "cell_type": "markdown",
   "metadata": {},
   "source": [
    "# Validate the trained model on Ind. RC-60-1p"
   ]
  },
  {
   "cell_type": "code",
   "execution_count": 3,
   "metadata": {},
   "outputs": [],
   "source": [
    "def expand_data(data, label, num_classes):\n",
    "    data= np.expand_dims(data,-1)\n",
    "    label = np.array([label]*len(data))\n",
    "    label = tf.keras.utils.to_categorical(label-1, num_classes)\n",
    "    return data, label"
   ]
  },
  {
   "cell_type": "code",
   "execution_count": 4,
   "metadata": {},
   "outputs": [],
   "source": [
    "from utils.sampling import extract_car_data\n",
    "root_folder = 'preprocessed_data/'\n",
    "f_x = root_folder+'026_X.txt' \n",
    "f_y = root_folder+'026_y.txt'\n",
    "car_label = 2 # in speed data (023-027), car 2 is label = 2\n",
    "car2_data =  extract_car_data(f_x, f_y, car_label)"
   ]
  },
  {
   "cell_type": "code",
   "execution_count": 5,
   "metadata": {},
   "outputs": [
    {
     "name": "stdout",
     "output_type": "stream",
     "text": [
      "(451, 5976, 1) (451, 2)\n"
     ]
    },
    {
     "name": "stderr",
     "output_type": "stream",
     "text": [
      "2023-07-10 15:30:53.435703: I tensorflow/stream_executor/cuda/cuda_dnn.cc:384] Loaded cuDNN version 8101\n"
     ]
    },
    {
     "name": "stdout",
     "output_type": "stream",
     "text": [
      "15/15 [==============================] - 8s 5ms/step - loss: 7.0573 - accuracy: 0.4612\n"
     ]
    },
    {
     "name": "stderr",
     "output_type": "stream",
     "text": [
      "2023-07-10 15:30:58.767010: I tensorflow/stream_executor/cuda/cuda_blas.cc:1786] TensorFloat-32 will be used for the matrix multiplication. This will only be logged once.\n"
     ]
    },
    {
     "data": {
      "text/plain": [
       "[7.0573320388793945, 0.4611973464488983]"
      ]
     },
     "execution_count": 5,
     "metadata": {},
     "output_type": "execute_result"
    }
   ],
   "source": [
    "label = 2 #new label, car2+1p->LOV\n",
    "num_classes = 2 #HOV, LOV\n",
    "car2_1p_data, car2_1p_label_new = expand_data(car2_data, label, num_classes)\n",
    "print(car2_1p_data.shape, car2_1p_label_new.shape)\n",
    "m.evaluate(car2_1p_data, car2_1p_label_new)"
   ]
  },
  {
   "cell_type": "code",
   "execution_count": 6,
   "metadata": {},
   "outputs": [
    {
     "name": "stdout",
     "output_type": "stream",
     "text": [
      "15/15 [==============================] - 0s 3ms/step\n"
     ]
    }
   ],
   "source": [
    "from das_lib.evaluation import save_wrong_indices\n",
    "f_name = 'performance/wrong_indices/2way_1d_1p.json'\n",
    "save_wrong_indices(f_name, m, car2_1p_data, car2_1p_label_new)"
   ]
  },
  {
   "attachments": {},
   "cell_type": "markdown",
   "metadata": {},
   "source": [
    "# Validate the trained model on Ind. RC-60-5p"
   ]
  },
  {
   "cell_type": "code",
   "execution_count": 7,
   "metadata": {},
   "outputs": [],
   "source": [
    "root_folder = 'preprocessed_data/'\n",
    "f_x = root_folder+'058_5p_X.txt' \n",
    "f_y = root_folder+'058_5p_y.txt'\n",
    "car_label = 1 #old label, direction west => label=1\n",
    "car2_data = extract_car_data(f_x, f_y, car_label)"
   ]
  },
  {
   "cell_type": "code",
   "execution_count": 8,
   "metadata": {},
   "outputs": [
    {
     "name": "stdout",
     "output_type": "stream",
     "text": [
      "(291, 5976, 1) (291, 2)\n"
     ]
    }
   ],
   "source": [
    "label = 1 #new label, 5p in car 2 = > label = 1 \n",
    "num_classes = 2\n",
    "car2_5p_data, car2_5p_label_new = expand_data(car2_data, label, num_classes)\n",
    "print(car2_5p_data.shape, car2_5p_label_new.shape)"
   ]
  },
  {
   "cell_type": "code",
   "execution_count": 9,
   "metadata": {},
   "outputs": [
    {
     "name": "stdout",
     "output_type": "stream",
     "text": [
      "10/10 [==============================] - 0s 3ms/step - loss: 14.2821 - accuracy: 0.2474\n"
     ]
    },
    {
     "data": {
      "text/plain": [
       "[14.282137870788574, 0.24742268025875092]"
      ]
     },
     "execution_count": 9,
     "metadata": {},
     "output_type": "execute_result"
    }
   ],
   "source": [
    "m.evaluate(car2_5p_data, car2_5p_label_new)"
   ]
  },
  {
   "cell_type": "code",
   "execution_count": 10,
   "metadata": {},
   "outputs": [
    {
     "name": "stdout",
     "output_type": "stream",
     "text": [
      "10/10 [==============================] - 0s 2ms/step\n"
     ]
    }
   ],
   "source": [
    "f_name = 'performance/wrong_indices/2way_1d_5p.json'\n",
    "save_wrong_indices(f_name, m, car2_5p_data, car2_5p_label_new)"
   ]
  }
 ],
 "metadata": {
  "kernelspec": {
   "display_name": "DAS_review",
   "language": "python",
   "name": "das_review"
  },
  "language_info": {
   "codemirror_mode": {
    "name": "ipython",
    "version": 3
   },
   "file_extension": ".py",
   "mimetype": "text/x-python",
   "name": "python",
   "nbconvert_exporter": "python",
   "pygments_lexer": "ipython3",
   "version": "3.8.5"
  }
 },
 "nbformat": 4,
 "nbformat_minor": 4
}
